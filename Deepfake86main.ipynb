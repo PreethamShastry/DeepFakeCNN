{
 "cells": [
  {
   "cell_type": "code",
   "execution_count": 1,
   "id": "f3d7d120-9fa1-4bde-96fa-3ddaa5ac0631",
   "metadata": {},
   "outputs": [],
   "source": [
    "import matplotlib.pyplot as plt\n",
    "from tensorflow.keras.preprocessing.image import ImageDataGenerator\n",
    "from tensorflow.keras.models import Sequential\n",
    "from tensorflow.keras.layers import Conv2D, MaxPooling2D, Flatten, Dense\n",
    "from sklearn.metrics import confusion_matrix, ConfusionMatrixDisplay"
   ]
  },
  {
   "cell_type": "code",
   "execution_count": 2,
   "id": "77133912-6b62-4ab7-bb30-b7f9a2baeac8",
   "metadata": {},
   "outputs": [],
   "source": [
    "data_train_path = 'Deepfake/Train'\n",
    "data_test_path = 'Deepfake/Test'\n",
    "data_val_path = 'Deepfake/Validation'"
   ]
  },
  {
   "cell_type": "code",
   "execution_count": 3,
   "id": "dea5cb93-cc1d-4b6d-9ee8-93307398758a",
   "metadata": {},
   "outputs": [],
   "source": [
    "train_datagen = ImageDataGenerator(rescale=1./255)\n",
    "validation_datagen = ImageDataGenerator(rescale=1./255)\n",
    "test_datagen = ImageDataGenerator(rescale=1./255)\n"
   ]
  },
  {
   "cell_type": "code",
   "execution_count": 4,
   "id": "8999164b-eb5b-4029-84c9-bcba6de01efb",
   "metadata": {},
   "outputs": [
    {
     "name": "stdout",
     "output_type": "stream",
     "text": [
      "Found 20038 images belonging to 2 classes.\n",
      "Found 4012 images belonging to 2 classes.\n",
      "Found 4012 images belonging to 2 classes.\n"
     ]
    }
   ],
   "source": [
    "\n",
    "train_flow = train_datagen.flow_from_directory(data_train_path, target_size=(64, 64), batch_size=32, class_mode='categorical')\n",
    "validation_flow = validation_datagen.flow_from_directory(data_val_path, target_size=(64, 64), batch_size=32, class_mode='categorical')\n",
    "test_flow = test_datagen.flow_from_directory(data_test_path, target_size=(64, 64), batch_size=32, class_mode='categorical')"
   ]
  },
  {
   "cell_type": "code",
   "execution_count": 5,
   "id": "f2c12caf-ec4d-49c5-8d01-759192157c46",
   "metadata": {},
   "outputs": [
    {
     "name": "stderr",
     "output_type": "stream",
     "text": [
      "C:\\Users\\DELL\\anaconda3\\Lib\\site-packages\\keras\\src\\layers\\convolutional\\base_conv.py:107: UserWarning: Do not pass an `input_shape`/`input_dim` argument to a layer. When using Sequential models, prefer using an `Input(shape)` object as the first layer in the model instead.\n",
      "  super().__init__(activity_regularizer=activity_regularizer, **kwargs)\n"
     ]
    }
   ],
   "source": [
    "from keras.layers import Dropout\n",
    "\n",
    "model = Sequential()\n",
    "model.add(Conv2D(32, (3, 3), activation='relu', input_shape=(64, 64, 3)))\n",
    "model.add(MaxPooling2D(pool_size=(2, 2)))\n",
    "model.add(Dropout(0.25)) # Dropout layer after pooling\n",
    "model.add(Conv2D(64, (3, 3), activation='relu'))\n",
    "model.add(MaxPooling2D(pool_size=(2, 2)))\n",
    "model.add(Dropout(0.25)) \n",
    "model.add(Conv2D(128, (3, 3), activation='relu'))\n",
    "model.add(MaxPooling2D(pool_size=(2, 2)))\n",
    "model.add(Dropout(0.25)) \n",
    "model.add(Flatten())\n",
    "model.add(Dense(128, activation='relu'))\n",
    "model.add(Dropout(0.5)) \n",
    "model.add(Dense(2, activation='softmax'))\n"
   ]
  },
  {
   "cell_type": "code",
   "execution_count": 6,
   "id": "2d0846d2-5297-4a9e-a2ef-36a47e59d5f3",
   "metadata": {},
   "outputs": [],
   "source": [
    "\n",
    "model.compile(optimizer='adam', loss='categorical_crossentropy', metrics=['accuracy'])"
   ]
  },
  {
   "cell_type": "code",
   "execution_count": 7,
   "id": "6069a790-12b1-406c-a692-87e992685bfc",
   "metadata": {},
   "outputs": [
    {
     "name": "stdout",
     "output_type": "stream",
     "text": [
      "Epoch 1/10\n"
     ]
    },
    {
     "name": "stderr",
     "output_type": "stream",
     "text": [
      "C:\\Users\\DELL\\anaconda3\\Lib\\site-packages\\keras\\src\\trainers\\data_adapters\\py_dataset_adapter.py:121: UserWarning: Your `PyDataset` class should call `super().__init__(**kwargs)` in its constructor. `**kwargs` can include `workers`, `use_multiprocessing`, `max_queue_size`. Do not pass these arguments to `fit()`, as they will be ignored.\n",
      "  self._warn_if_super_not_called()\n"
     ]
    },
    {
     "name": "stdout",
     "output_type": "stream",
     "text": [
      "\u001b[1m627/627\u001b[0m \u001b[32m━━━━━━━━━━━━━━━━━━━━\u001b[0m\u001b[37m\u001b[0m \u001b[1m85s\u001b[0m 131ms/step - accuracy: 0.6487 - loss: 0.6127 - val_accuracy: 0.7684 - val_loss: 0.4606\n",
      "Epoch 2/10\n",
      "\u001b[1m627/627\u001b[0m \u001b[32m━━━━━━━━━━━━━━━━━━━━\u001b[0m\u001b[37m\u001b[0m \u001b[1m65s\u001b[0m 103ms/step - accuracy: 0.8102 - loss: 0.4175 - val_accuracy: 0.7846 - val_loss: 0.4177\n",
      "Epoch 3/10\n",
      "\u001b[1m627/627\u001b[0m \u001b[32m━━━━━━━━━━━━━━━━━━━━\u001b[0m\u001b[37m\u001b[0m \u001b[1m65s\u001b[0m 103ms/step - accuracy: 0.8401 - loss: 0.3657 - val_accuracy: 0.8784 - val_loss: 0.3040\n",
      "Epoch 4/10\n",
      "\u001b[1m627/627\u001b[0m \u001b[32m━━━━━━━━━━━━━━━━━━━━\u001b[0m\u001b[37m\u001b[0m \u001b[1m65s\u001b[0m 103ms/step - accuracy: 0.8657 - loss: 0.3197 - val_accuracy: 0.8208 - val_loss: 0.3618\n",
      "Epoch 5/10\n",
      "\u001b[1m627/627\u001b[0m \u001b[32m━━━━━━━━━━━━━━━━━━━━\u001b[0m\u001b[37m\u001b[0m \u001b[1m66s\u001b[0m 105ms/step - accuracy: 0.8778 - loss: 0.2916 - val_accuracy: 0.8814 - val_loss: 0.2611\n",
      "Epoch 6/10\n",
      "\u001b[1m627/627\u001b[0m \u001b[32m━━━━━━━━━━━━━━━━━━━━\u001b[0m\u001b[37m\u001b[0m \u001b[1m66s\u001b[0m 104ms/step - accuracy: 0.8855 - loss: 0.2816 - val_accuracy: 0.8819 - val_loss: 0.2654\n",
      "Epoch 7/10\n",
      "\u001b[1m627/627\u001b[0m \u001b[32m━━━━━━━━━━━━━━━━━━━━\u001b[0m\u001b[37m\u001b[0m \u001b[1m66s\u001b[0m 105ms/step - accuracy: 0.8912 - loss: 0.2555 - val_accuracy: 0.9020 - val_loss: 0.2164\n",
      "Epoch 8/10\n",
      "\u001b[1m627/627\u001b[0m \u001b[32m━━━━━━━━━━━━━━━━━━━━\u001b[0m\u001b[37m\u001b[0m \u001b[1m67s\u001b[0m 106ms/step - accuracy: 0.9026 - loss: 0.2399 - val_accuracy: 0.9185 - val_loss: 0.1922\n",
      "Epoch 9/10\n",
      "\u001b[1m627/627\u001b[0m \u001b[32m━━━━━━━━━━━━━━━━━━━━\u001b[0m\u001b[37m\u001b[0m \u001b[1m67s\u001b[0m 107ms/step - accuracy: 0.9031 - loss: 0.2297 - val_accuracy: 0.8981 - val_loss: 0.2462\n",
      "Epoch 10/10\n",
      "\u001b[1m627/627\u001b[0m \u001b[32m━━━━━━━━━━━━━━━━━━━━\u001b[0m\u001b[37m\u001b[0m \u001b[1m66s\u001b[0m 105ms/step - accuracy: 0.9023 - loss: 0.2286 - val_accuracy: 0.8946 - val_loss: 0.2498\n"
     ]
    },
    {
     "data": {
      "text/plain": [
       "<keras.src.callbacks.history.History at 0x2b3fcac2fd0>"
      ]
     },
     "execution_count": 7,
     "metadata": {},
     "output_type": "execute_result"
    }
   ],
   "source": [
    "\n",
    "model.fit(train_flow, epochs=10, validation_data=validation_flow)"
   ]
  },
  {
   "cell_type": "code",
   "execution_count": 8,
   "id": "0508d62d-b507-43a0-aa3c-15e93cc1399d",
   "metadata": {},
   "outputs": [
    {
     "name": "stdout",
     "output_type": "stream",
     "text": [
      "\u001b[1m126/126\u001b[0m \u001b[32m━━━━━━━━━━━━━━━━━━━━\u001b[0m\u001b[37m\u001b[0m \u001b[1m11s\u001b[0m 88ms/step - accuracy: 0.8694 - loss: 0.3119\n",
      "Test Accuracy: 86.24%\n"
     ]
    }
   ],
   "source": [
    "loss, accuracy = model.evaluate(test_flow)\n",
    "print(f'Test Accuracy: {accuracy * 100:.2f}%')"
   ]
  },
  {
   "cell_type": "code",
   "execution_count": 9,
   "id": "55511c7c-8e35-4b25-a546-d4045aeb4902",
   "metadata": {},
   "outputs": [
    {
     "name": "stdout",
     "output_type": "stream",
     "text": [
      "\u001b[1m627/627\u001b[0m \u001b[32m━━━━━━━━━━━━━━━━━━━━\u001b[0m\u001b[37m\u001b[0m \u001b[1m32s\u001b[0m 50ms/step - accuracy: 0.9390 - loss: 0.1629\n",
      "Train Accuracy: 93.83%\n"
     ]
    }
   ],
   "source": [
    "loss, accuracy = model.evaluate(train_flow)\n",
    "print(f'Train Accuracy: {accuracy * 100:.2f}%')"
   ]
  },
  {
   "cell_type": "code",
   "execution_count": 36,
   "id": "0971f25d-b9b0-4021-9b3f-886c2a070048",
   "metadata": {},
   "outputs": [
    {
     "name": "stdout",
     "output_type": "stream",
     "text": [
      "\u001b[1m1/1\u001b[0m \u001b[32m━━━━━━━━━━━━━━━━━━━━\u001b[0m\u001b[37m\u001b[0m \u001b[1m0s\u001b[0m 102ms/step\n"
     ]
    },
    {
     "data": {
      "text/plain": [
       "{'Fake': 0, 'Real': 1}"
      ]
     },
     "execution_count": 36,
     "metadata": {},
     "output_type": "execute_result"
    }
   ],
   "source": [
    "import numpy as np\n",
    "from keras.preprocessing import image\n",
    "test_image = image.load_img('fake_img.jpeg', target_size=(64, 64))\n",
    "test_image = image.img_to_array(test_image)\n",
    "test_image = np.expand_dims(test_image, axis = 0)\n",
    "result = model.predict(test_image)\n",
    "train_flow.class_indices"
   ]
  },
  {
   "cell_type": "code",
   "execution_count": 37,
   "id": "7e3a38d1-53df-4556-bb0c-cb290abb772f",
   "metadata": {},
   "outputs": [
    {
     "name": "stdout",
     "output_type": "stream",
     "text": [
      "\u001b[1m1/1\u001b[0m \u001b[32m━━━━━━━━━━━━━━━━━━━━\u001b[0m\u001b[37m\u001b[0m \u001b[1m0s\u001b[0m 126ms/step\n",
      "The predicted class is: Fake\n"
     ]
    }
   ],
   "source": [
    "result = model.predict(test_image)\n",
    "predicted_class = np.argmax(result[0])\n",
    "\n",
    "\n",
    "if predicted_class == 0:\n",
    "    prediction = 'Fake'\n",
    "else:\n",
    "    prediction = 'Real'\n",
    "\n",
    "\n",
    "print(f\"The predicted class is: {prediction}\")"
   ]
  },
  {
   "cell_type": "code",
   "execution_count": 34,
   "id": "c1f36d77-4809-4826-bf22-bfda55edc76d",
   "metadata": {},
   "outputs": [],
   "source": [
    "model.save('DeepFake_img_classifier.keras')"
   ]
  }
 ],
 "metadata": {
  "kernelspec": {
   "display_name": "Python 3 (ipykernel)",
   "language": "python",
   "name": "python3"
  },
  "language_info": {
   "codemirror_mode": {
    "name": "ipython",
    "version": 3
   },
   "file_extension": ".py",
   "mimetype": "text/x-python",
   "name": "python",
   "nbconvert_exporter": "python",
   "pygments_lexer": "ipython3",
   "version": "3.11.7"
  }
 },
 "nbformat": 4,
 "nbformat_minor": 5
}
